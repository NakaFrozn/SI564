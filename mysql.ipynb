{
 "cells": [
  {
   "cell_type": "code",
   "execution_count": 22,
   "metadata": {},
   "outputs": [],
   "source": [
    "import mysql.connector\n",
    "import tabulate"
   ]
  },
  {
   "cell_type": "code",
   "execution_count": 23,
   "metadata": {},
   "outputs": [],
   "source": [
    "def connect():\n",
    "    #mysql -h 34.45.141.24 --port 12373 -u jonasxie-ro -p2963274fe6f86749b5ddd9739028aaec\n",
    "\n",
    "    conn = mysql.connector.connect(\n",
    "        host = \"34.45.141.24\",\n",
    "        port = 12373,\n",
    "        user = \"jonasxie-ro\",\n",
    "        password = \"2963274fe6f86749b5ddd9739028aaec\"\n",
    "    )\n",
    "\n",
    "    cursor = conn.cursor()\n",
    "    return conn, cursor\n",
    "\n",
    "def conn_close(conn, cursor):\n",
    "    cursor.close()\n",
    "    conn.close()"
   ]
  },
  {
   "cell_type": "code",
   "execution_count": 24,
   "metadata": {},
   "outputs": [],
   "source": [
    "def show_sql(cursor):\n",
    "    rows = cursor.fetchall()\n",
    "    try:\n",
    "        columns = [i[0] for i in cursor.description]\n",
    "    except:\n",
    "        return None\n",
    "    print(tabulate.tabulate(rows, headers=columns, tablefmt='psql')) \n",
    "\n",
    "\n",
    "def sql_exc(query:str, cursor):\n",
    "    try:\n",
    "        cursor.execute(query)\n",
    "    except Exception as e:\n",
    "        print(e)\n",
    "        if e.errno == 1065:\n",
    "            print(\"No query\")\n",
    "        if e.errno == 2013:\n",
    "            print(\"Reconnect\")\n",
    "            return\n",
    "        elif e.errno == 2014:\n",
    "            print(\"Unread results\")\n",
    "            show_sql(cursor)\n",
    "        return\n",
    "    try:\n",
    "        show_sql(cursor)\n",
    "    except Exception as e:\n",
    "        return\n",
    "    "
   ]
  },
  {
   "cell_type": "code",
   "execution_count": 25,
   "metadata": {},
   "outputs": [],
   "source": [
    "conn, cursor = connect()"
   ]
  },
  {
   "cell_type": "code",
   "execution_count": 26,
   "metadata": {},
   "outputs": [
    {
     "name": "stdout",
     "output_type": "stream",
     "text": [
      "+------------------------+\n",
      "| Tables_in_ro_recipes   |\n",
      "|------------------------|\n",
      "| Ingredient_Classes     |\n",
      "| Ingredients            |\n",
      "| Measurements           |\n",
      "| Recipe_Classes         |\n",
      "| Recipe_Ingredients     |\n",
      "| Recipes                |\n",
      "+------------------------+\n"
     ]
    }
   ],
   "source": [
    "# cursor.execute(\"SHOW DATABASES\")\n",
    "sql_exc(\"USE ro_recipes\", cursor)\n",
    "sql_exc(\"SHOW TABLES\", cursor)\n"
   ]
  },
  {
   "cell_type": "code",
   "execution_count": 27,
   "metadata": {},
   "outputs": [
    {
     "name": "stdout",
     "output_type": "stream",
     "text": [
      "+-------------+------------------------------------------------------------------------------------------------+\n",
      "| Table       | Create Table                                                                                   |\n",
      "|-------------+------------------------------------------------------------------------------------------------|\n",
      "| Ingredients | CREATE TABLE `Ingredients` (                                                                   |\n",
      "|             |   `IngredientID` int NOT NULL DEFAULT '0',                                                     |\n",
      "|             |   `IngredientName` varchar(255) CHARACTER SET utf8mb3 COLLATE utf8mb3_general_ci DEFAULT NULL, |\n",
      "|             |   `IngredientClassID` smallint DEFAULT '0',                                                    |\n",
      "|             |   `MeasureAmountID` smallint DEFAULT '0',                                                      |\n",
      "|             |   PRIMARY KEY (`IngredientID`)                                                                 |\n",
      "|             | ) ENGINE=InnoDB DEFAULT CHARSET=utf8mb4 COLLATE=utf8mb4_unicode_ci                             |\n",
      "+-------------+------------------------------------------------------------------------------------------------+\n"
     ]
    }
   ],
   "source": [
    "sql_exc(\"SHOW CREATE TABLE Ingredients\", cursor)"
   ]
  },
  {
   "cell_type": "code",
   "execution_count": 28,
   "metadata": {},
   "outputs": [
    {
     "name": "stdout",
     "output_type": "stream",
     "text": [
      "+---------------------+-----------------+\n",
      "| RecipeTitle         |   RecipeClassID |\n",
      "|---------------------+-----------------|\n",
      "| Garlic Green Beans  |               2 |\n",
      "| Asparagus           |               2 |\n",
      "| Mike's Summer Salad |               4 |\n",
      "+---------------------+-----------------+\n"
     ]
    }
   ],
   "source": [
    "sql_exc(\"\"\"\n",
    "        SELECT r.RecipeTitle, r.RecipeClassID \n",
    "        FROM Recipes r\n",
    "        JOIN Recipe_Classes rc ON r.RecipeClassID = rc.RecipeClassID\n",
    "        WHERE rc.RecipeClassDescription IN ('Vegetable', 'Salad')\n",
    "        \"\"\", cursor)"
   ]
  },
  {
   "cell_type": "code",
   "execution_count": 29,
   "metadata": {},
   "outputs": [
    {
     "name": "stdout",
     "output_type": "stream",
     "text": [
      "+------------+-------------------------------------------------------+\n",
      "|   RecipeID | RecipeTitle                                           |\n",
      "|------------+-------------------------------------------------------|\n",
      "|         14 | Salmon Filets in Parchment Paper                      |\n",
      "|         11 | Huachinango Veracruzana (Red Snapper, Veracruz style) |\n",
      "+------------+-------------------------------------------------------+\n"
     ]
    }
   ],
   "source": [
    "sql_exc(\"\"\"\n",
    "        SELECT r.RecipeID, r.RecipeTitle \n",
    "        FROM Recipes r\n",
    "        JOIN Recipe_Ingredients ri ON r.RecipeID = ri.RecipeID\n",
    "        JOIN Ingredients i ON ri.IngredientID = i.IngredientID\n",
    "        JOIN Ingredient_Classes ic ON i.IngredientClassID = ic.IngredientClassID\n",
    "        WHERE ic.IngredientClassDescription = 'Seafood'\n",
    "        LIMIT 50\n",
    "        \"\"\", cursor)"
   ]
  },
  {
   "cell_type": "code",
   "execution_count": 30,
   "metadata": {},
   "outputs": [
    {
     "name": "stdout",
     "output_type": "stream",
     "text": [
      "+------------+---------------+-----------------+---------------+---------+\n",
      "| RecipeID   | RecipeTitle   | RecipeClassID   | Preparation   | Notes   |\n",
      "|------------+---------------+-----------------+---------------+---------|\n",
      "+------------+---------------+-----------------+---------------+---------+\n"
     ]
    }
   ],
   "source": [
    "sql_exc(\"\"\"\n",
    "        SELECT * FROM Recipes WHERE RecipeID IN (\n",
    "        SELECT RecipeID \n",
    "        FROM Recipe_Ingredients \n",
    "        WHERE IngredientID IN (\n",
    "                SELECT IngredientID \n",
    "                FROM Ingredients \n",
    "                WHERE IngredientName = 'Beef')) \n",
    "        AND RecipeID IN (\n",
    "        SELECT RecipeID \n",
    "        FROM Recipe_Ingredients \n",
    "        WHERE IngredientID IN (\n",
    "                SELECT IngredientID \n",
    "                FROM Ingredients \n",
    "                WHERE IngredientName = 'Garlic')) \n",
    "        AND RecipeID NOT IN (\n",
    "        SELECT RecipeID \n",
    "        FROM Recipe_Ingredients \n",
    "        WHERE IngredientID IN (\n",
    "                SELECT IngredientClassID \n",
    "                FROM Ingredient_Classes \n",
    "                WHERE IngredientClassDescription = 'Seafood'))\n",
    "        \"\"\", cursor)"
   ]
  },
  {
   "cell_type": "code",
   "execution_count": 31,
   "metadata": {},
   "outputs": [],
   "source": [
    "conn, cursor = connect()"
   ]
  },
  {
   "cell_type": "code",
   "execution_count": 32,
   "metadata": {},
   "outputs": [
    {
     "name": "stdout",
     "output_type": "stream",
     "text": [
      "+-------------------------+\n",
      "| Tables_in_ro_company1   |\n",
      "|-------------------------|\n",
      "| account                 |\n",
      "| branch                  |\n",
      "| business                |\n",
      "| customer                |\n",
      "| department              |\n",
      "| employee                |\n",
      "| individual              |\n",
      "| officer                 |\n",
      "| product                 |\n",
      "| product_type            |\n",
      "| transaction             |\n",
      "+-------------------------+\n"
     ]
    }
   ],
   "source": [
    "sql_exc(\"USE ro_company1\", cursor)\n",
    "sql_exc(\"SHOW TABLES\", cursor)"
   ]
  },
  {
   "cell_type": "code",
   "execution_count": 33,
   "metadata": {},
   "outputs": [
    {
     "name": "stdout",
     "output_type": "stream",
     "text": [
      "+----------+----------+-----------+-----------+\n",
      "|   emp_id | fname    | lname     |   dept_id |\n",
      "|----------+----------+-----------+-----------|\n",
      "|        4 | Susan    | Hawthorne |         1 |\n",
      "|        6 | Helen    | Fleming   |         1 |\n",
      "|        7 | Chris    | Tucker    |         1 |\n",
      "|        8 | Sarah    | Parker    |         1 |\n",
      "|        9 | Jane     | Grossman  |         1 |\n",
      "|       10 | Paula    | Roberts   |         1 |\n",
      "|       11 | Thomas   | Ziegler   |         1 |\n",
      "|       12 | Samantha | Jameson   |         1 |\n",
      "|       13 | John     | Blake     |         1 |\n",
      "|       14 | Cindy    | Mason     |         1 |\n",
      "|       15 | Frank    | Portman   |         1 |\n",
      "|       16 | Theresa  | Markham   |         1 |\n",
      "|       17 | Beth     | Fowler    |         1 |\n",
      "|       18 | Rick     | Tulman    |         1 |\n",
      "+----------+----------+-----------+-----------+\n"
     ]
    }
   ],
   "source": [
    "sql_exc(\"\"\"\n",
    "        SELECT e.emp_id, e.fname, e.lname, e.dept_id \n",
    "        FROM employee e\n",
    "        JOIN department d ON e.dept_id = d.dept_id\n",
    "        WHERE d.name = 'Operations'\n",
    "        \"\"\", cursor)"
   ]
  },
  {
   "cell_type": "code",
   "execution_count": 34,
   "metadata": {},
   "outputs": [
    {
     "name": "stdout",
     "output_type": "stream",
     "text": [
      "+-----------+------------------------+------------+---------------+\n",
      "|   cust_id | name                   | state_id   | incorp_date   |\n",
      "|-----------+------------------------+------------+---------------|\n",
      "|        10 | Chilton Engineering    | 12-345-678 | 1995-05-01    |\n",
      "|        11 | Northeast Cooling Inc. | 23-456-789 | 2001-01-01    |\n",
      "|        12 | Superior Auto Body     | 34-567-890 | 2002-06-30    |\n",
      "|        13 | AAA Insurance Inc.     | 45-678-901 | 1999-05-01    |\n",
      "+-----------+------------------------+------------+---------------+\n"
     ]
    }
   ],
   "source": [
    "sql_exc(\"SELECT * FROM business LIMIT 20\", cursor)"
   ]
  },
  {
   "cell_type": "code",
   "execution_count": 35,
   "metadata": {},
   "outputs": [
    {
     "name": "stdout",
     "output_type": "stream",
     "text": [
      "+--------------+-------------+-------------+-------------+---------------------+------------+---------+\n",
      "|   account_id | open_date   | emp_fname   | emp_lname   | address             | city       | state   |\n",
      "|--------------+-------------+-------------+-------------+---------------------+------------+---------|\n",
      "|            1 | 2000-01-15  | Paula       | Roberts     | 47 Mockingbird Ln   | Lynnfield  | MA      |\n",
      "|            2 | 2000-01-15  | Paula       | Roberts     | 47 Mockingbird Ln   | Lynnfield  | MA      |\n",
      "|            3 | 2004-06-30  | Paula       | Roberts     | 47 Mockingbird Ln   | Lynnfield  | MA      |\n",
      "|            4 | 2001-03-12  | Paula       | Roberts     | 372 Clearwater Blvd | Woburn     | MA      |\n",
      "|            5 | 2001-03-12  | Paula       | Roberts     | 372 Clearwater Blvd | Woburn     | MA      |\n",
      "|           17 | 2004-01-12  | Paula       | Roberts     | 29 Admiral Ln       | Wilmington | MA      |\n",
      "|           27 | 2004-03-22  | Paula       | Roberts     | 287A Corporate Ave  | Wilmington | MA      |\n",
      "+--------------+-------------+-------------+-------------+---------------------+------------+---------+\n"
     ]
    }
   ],
   "source": [
    "sql_exc(\"\"\"SELECT \n",
    "            a.account_id, \n",
    "            a.open_date, e.fname AS emp_fname,\n",
    "            e.lname AS emp_lname, \n",
    "            c.address,\n",
    "            c.city,\n",
    "            c.state\n",
    "        FROM account a \n",
    "        JOIN customer c ON a.cust_id = c.cust_id\n",
    "        JOIN employee e ON a.open_emp_id = e.emp_id\n",
    "        WHERE e.fname = 'Paula' AND e.lname = 'Roberts'\n",
    "        \"\"\", cursor)"
   ]
  },
  {
   "cell_type": "code",
   "execution_count": 36,
   "metadata": {},
   "outputs": [
    {
     "name": "stdout",
     "output_type": "stream",
     "text": [
      "+----------+----------+-----------+-------------------+\n",
      "|   emp_id | fname    | lname     |   superior_emp_id |\n",
      "|----------+----------+-----------+-------------------|\n",
      "|        2 | Susan    | Barker    |                 1 |\n",
      "|        3 | Robert   | Tyler     |                 1 |\n",
      "|        4 | Susan    | Hawthorne |                 3 |\n",
      "|        5 | John     | Gooding   |                 4 |\n",
      "|        6 | Helen    | Fleming   |                 4 |\n",
      "|        7 | Chris    | Tucker    |                 6 |\n",
      "|        8 | Sarah    | Parker    |                 6 |\n",
      "|        9 | Jane     | Grossman  |                 6 |\n",
      "|       10 | Paula    | Roberts   |                 4 |\n",
      "|       11 | Thomas   | Ziegler   |                10 |\n",
      "|       12 | Samantha | Jameson   |                10 |\n",
      "|       13 | John     | Blake     |                 4 |\n",
      "|       14 | Cindy    | Mason     |                13 |\n",
      "|       15 | Frank    | Portman   |                13 |\n",
      "|       16 | Theresa  | Markham   |                 4 |\n",
      "|       17 | Beth     | Fowler    |                16 |\n",
      "|       18 | Rick     | Tulman    |                16 |\n",
      "+----------+----------+-----------+-------------------+\n"
     ]
    }
   ],
   "source": [
    "sql_exc(\"\"\"\n",
    "        SELECT emp_id, fname, lname, superior_emp_id \n",
    "        FROM employee WHERE superior_emp_id IS NOT NULL\n",
    "        \"\"\", cursor)    "
   ]
  },
  {
   "cell_type": "code",
   "execution_count": 37,
   "metadata": {},
   "outputs": [
    {
     "name": "stdout",
     "output_type": "stream",
     "text": [
      "+--------------+-----------------+---------+------------------------+\n",
      "|   account_id |   avail_balance | state   | business_name          |\n",
      "|--------------+-----------------+---------+------------------------|\n",
      "|            1 |         1057.75 | MA      |                        |\n",
      "|            2 |          500    | MA      |                        |\n",
      "|            3 |         3000    | MA      |                        |\n",
      "|            4 |         2258.02 | MA      |                        |\n",
      "|            5 |          200    | MA      |                        |\n",
      "|            7 |         1057.75 | MA      |                        |\n",
      "|            8 |         2212.5  | MA      |                        |\n",
      "|           10 |          534.12 | MA      |                        |\n",
      "|           11 |          767.77 | MA      |                        |\n",
      "|           12 |         5487.09 | MA      |                        |\n",
      "|           13 |         2237.97 | NH      |                        |\n",
      "|           14 |          122.37 | MA      |                        |\n",
      "|           15 |        10000    | MA      |                        |\n",
      "|           17 |         5000    | MA      |                        |\n",
      "|           18 |         3487.19 | NH      |                        |\n",
      "|           19 |          387.99 | NH      |                        |\n",
      "|           21 |          125.67 | MA      |                        |\n",
      "|           22 |         9345.55 | MA      |                        |\n",
      "|           23 |         1500    | MA      |                        |\n",
      "|           24 |        23575.1  | NH      | Chilton Engineering    |\n",
      "|           25 |            0    | NH      | Chilton Engineering    |\n",
      "|           27 |         9345.55 | MA      | Northeast Cooling Inc. |\n",
      "|           28 |        38552.1  | NH      | Superior Auto Body     |\n",
      "|           29 |        50000    | MA      | AAA Insurance Inc.     |\n",
      "+--------------+-----------------+---------+------------------------+\n"
     ]
    }
   ],
   "source": [
    "sql_exc(\"\"\"\n",
    "        SELECT a.account_id, a.avail_balance, c.state, b.name AS business_name\n",
    "        FROM account a\n",
    "        JOIN customer c ON a.cust_id = c.cust_id\n",
    "        LEFT JOIN business b on a.cust_id = b.cust_id\n",
    "        WHERE a.close_date IS NULL\n",
    "        \"\"\", cursor)"
   ]
  },
  {
   "cell_type": "code",
   "execution_count": 38,
   "metadata": {},
   "outputs": [
    {
     "name": "stdout",
     "output_type": "stream",
     "text": [
      "+----------+----------+---------+----------------------+\n",
      "|   emp_id | fname    | lname   |   assigned_branch_id |\n",
      "|----------+----------+---------+----------------------|\n",
      "|       10 | Paula    | Roberts |                    2 |\n",
      "|       11 | Thomas   | Ziegler |                    2 |\n",
      "|       12 | Samantha | Jameson |                    2 |\n",
      "+----------+----------+---------+----------------------+\n"
     ]
    }
   ],
   "source": [
    "sql_exc(\"\"\"\n",
    "        SELECT e.emp_id, e.fname, e.lname, e.assigned_branch_id \n",
    "        FROM employee e\n",
    "        JOIN branch b ON e.assigned_branch_id = b.branch_id\n",
    "        WHERE b.address = '422 Maple St.'\n",
    "        \"\"\", cursor)"
   ]
  },
  {
   "cell_type": "code",
   "execution_count": 39,
   "metadata": {},
   "outputs": [
    {
     "name": "stdout",
     "output_type": "stream",
     "text": [
      "+-------------------+\n",
      "| Tables_in_world   |\n",
      "|-------------------|\n",
      "| city              |\n",
      "| country           |\n",
      "| countrylanguage   |\n",
      "+-------------------+\n"
     ]
    }
   ],
   "source": [
    "sql_exc(\"USE world\", cursor)\n",
    "sql_exc(\"SHOW TABLES\", cursor)"
   ]
  },
  {
   "cell_type": "code",
   "execution_count": 40,
   "metadata": {},
   "outputs": [
    {
     "name": "stdout",
     "output_type": "stream",
     "text": [
      "+------------+---------------+--------------+---------------+\n",
      "| Name       | CountryCode   |   Population | Continent     |\n",
      "|------------+---------------+--------------+---------------|\n",
      "| Kirovograd | UKR           |       265000 | Europe        |\n",
      "| Huai´an    | CHN           |       131149 | Asia          |\n",
      "| Catanzaro  | ITA           |        96700 | Europe        |\n",
      "| Tacna      | PER           |       215683 | South America |\n",
      "| Qaramay    | CHN           |       197602 | Asia          |\n",
      "+------------+---------------+--------------+---------------+\n"
     ]
    }
   ],
   "source": [
    "sql_exc(\"\"\"\n",
    "        SELECT c.Name, c.CountryCode, c.Population, co.Continent\n",
    "        FROM city c\n",
    "        JOIN country co ON c.CountryCode = co.Code\n",
    "        WHERE (c.Population > 13000 AND c.Population < 500000)\n",
    "        AND co.Continent != 'North America'\n",
    "        ORDER BY RAND()\n",
    "        LIMIT 5\n",
    "        \"\"\", cursor)"
   ]
  },
  {
   "cell_type": "code",
   "execution_count": 41,
   "metadata": {},
   "outputs": [
    {
     "name": "stdout",
     "output_type": "stream",
     "text": [
      "+-------------------+\n",
      "|   count_of_cities |\n",
      "|-------------------|\n",
      "|               518 |\n",
      "+-------------------+\n"
     ]
    }
   ],
   "source": [
    "sql_exc(\"\"\"\n",
    "        SELECT count(*) AS count_of_cities FROM city c\n",
    "        JOIN country co ON c.CountryCode = co.Code\n",
    "        WHERE co.GovernmentForm = 'Constitutional Monarchy'\n",
    "        \"\"\",cursor)"
   ]
  },
  {
   "cell_type": "code",
   "execution_count": 42,
   "metadata": {},
   "outputs": [
    {
     "name": "stdout",
     "output_type": "stream",
     "text": [
      "+-------------+---------------+--------------+-----------------------------------+--------------------+\n",
      "| Name        | CountryCode   |   Population | GovernmentForm                    | OfficialLanguage   |\n",
      "|-------------+---------------+--------------+-----------------------------------+--------------------|\n",
      "| Qandahar    | AFG           |       237500 | Islamic Emirate                   | Dari               |\n",
      "| al-Salimiya | KWT           |       130215 | Constitutional Monarchy (Emirate) | Arabic             |\n",
      "| Kasukabe    | JPN           |       201838 | Constitutional Monarchy           | Japanese           |\n",
      "| Kitami      | JPN           |       111295 | Constitutional Monarchy           | Japanese           |\n",
      "| Gijón       | ESP           |       267980 | Constitutional Monarchy           | Spanish            |\n",
      "+-------------+---------------+--------------+-----------------------------------+--------------------+\n"
     ]
    }
   ],
   "source": [
    "sql_exc(\"\"\"\n",
    "        SELECT c.Name, c.CountryCode, c.Population, co.GovernmentForm, cl.Language As OfficialLanguage\n",
    "        FROM city c\n",
    "        JOIN country co ON c.CountryCode = co.Code\n",
    "        JOIN countrylanguage cl ON co.Code = cl.CountryCode\n",
    "        WHERE co.GovernmentForm NOT LIKE '%Republic%' AND \n",
    "        cl.IsOfficial = 'T' AND cl.Language != 'English' AND\n",
    "        c.Population > 13000 AND c.Population < 500000\n",
    "        ORDER BY RAND() \n",
    "        LIMIT 5\n",
    "        \"\"\", cursor)"
   ]
  },
  {
   "cell_type": "code",
   "execution_count": 43,
   "metadata": {},
   "outputs": [
    {
     "name": "stdout",
     "output_type": "stream",
     "text": [
      "+--------------------------+\n",
      "| Tables_in_ro_employees   |\n",
      "|--------------------------|\n",
      "| departments              |\n",
      "| dept_emp                 |\n",
      "| dept_manager             |\n",
      "| employees                |\n",
      "| salaries                 |\n",
      "| titles                   |\n",
      "+--------------------------+\n"
     ]
    }
   ],
   "source": [
    "sql_exc(\"USE ro_employees\", cursor)\n",
    "sql_exc(\"SHOW TABLES\", cursor)"
   ]
  },
  {
   "cell_type": "code",
   "execution_count": 44,
   "metadata": {},
   "outputs": [
    {
     "name": "stdout",
     "output_type": "stream",
     "text": [
      "+------------------------------+\n",
      "|   count_of_engineers_in_1985 |\n",
      "|------------------------------|\n",
      "|                           39 |\n",
      "+------------------------------+\n"
     ]
    }
   ],
   "source": [
    "sql_exc(\"\"\"\n",
    "        SELECT COUNT(*) AS count_of_engineers_in_1985\n",
    "        FROM salaries s\n",
    "        JOIN employees e ON s.emp_no = e.emp_no\n",
    "        JOIN titles t ON e.emp_no = t.emp_no\n",
    "        WHERE t.title LIKE '%Engineer%' AND\n",
    "        s.from_date BETWEEN '1985-01-01' AND '1986-01-01' AND\n",
    "        s.to_date BETWEEN '1985-01-01' AND '1986-01-01'\n",
    "        \"\"\", cursor)"
   ]
  },
  {
   "cell_type": "code",
   "execution_count": 45,
   "metadata": {},
   "outputs": [
    {
     "name": "stdout",
     "output_type": "stream",
     "text": [
      "+---------------------------------+\n",
      "|   count_of_production_employees |\n",
      "|---------------------------------|\n",
      "|                            2517 |\n",
      "+---------------------------------+\n"
     ]
    }
   ],
   "source": [
    "sql_exc(\"\"\"\n",
    "        SELECT COUNT(1) AS count_of_production_employees\n",
    "        FROM dept_emp de \n",
    "        JOIN departments d on de.dept_no = d.dept_no\n",
    "        WHERE d.dept_name = 'Production' AND\n",
    "        de.from_date BETWEEN '1985-01-01' AND '1992-01-01' AND\n",
    "        de.to_date BETWEEN '1985-01-01' AND '1992-01-01'\n",
    "        \"\"\", cursor)"
   ]
  },
  {
   "cell_type": "code",
   "execution_count": 46,
   "metadata": {},
   "outputs": [
    {
     "name": "stdout",
     "output_type": "stream",
     "text": [
      "+----------+--------------+----------------+----------+------------------+\n",
      "|   emp_no | first_name   | last_name      |   salary | title            |\n",
      "|----------+--------------+----------------+----------+------------------|\n",
      "|   408799 | Vidya        | Marzano        |    46938 | Engineer         |\n",
      "|    78180 | Jovan        | Stassinopoulos |    81589 | Senior Staff     |\n",
      "|   213113 | Shigeichiro  | Hammerschmidt  |    59064 | Senior Engineer  |\n",
      "|    22139 | Ayonca       | Goldhammer     |    53173 | Senior Engineer  |\n",
      "|   473353 | Martins      | Vernadat       |    86658 | Senior Engineer  |\n",
      "|    51281 | Mingsen      | Standera       |    86851 | Engineer         |\n",
      "|   432960 | Youpyo       | Neiman         |    56340 | Senior Staff     |\n",
      "|   432884 | Chaoyi       | Miculan        |   118735 | Senior Staff     |\n",
      "|    54194 | Lijie        | Trystram       |    74909 | Senior Engineer  |\n",
      "|   283494 | Gladys       | Percebois      |    79529 | Senior Engineer  |\n",
      "|   434125 | Boriana      | Vieri          |    93592 | Technique Leader |\n",
      "|   440978 | Faiza        | Braunschweig   |    48158 | Engineer         |\n",
      "|   472549 | Candida      | Kulisch        |    75781 | Senior Engineer  |\n",
      "|   476897 | Dante        | Escriba        |    70985 | Senior Engineer  |\n",
      "|   277999 | Radoslaw     | Gruenwald      |    74474 | Senior Engineer  |\n",
      "|   458203 | Monique      | Fargier        |    79964 | Senior Engineer  |\n",
      "|   205079 | Jaihie       | Jansen         |    62964 | Senior Engineer  |\n",
      "|    29477 | Candido      | Penn           |    68590 | Technique Leader |\n",
      "|   275512 | Sham         | Denny          |    89124 | Senior Staff     |\n",
      "|   218638 | Geraldo      | Kobuchi        |   119781 | Senior Staff     |\n",
      "+----------+--------------+----------------+----------+------------------+\n"
     ]
    }
   ],
   "source": [
    "sql_exc(\"\"\"\n",
    "        SELECT e.emp_no, e.first_name, e.last_name, s.salary, t.title\n",
    "        FROM employees e\n",
    "        JOIN salaries s ON e.emp_no = s.emp_no\n",
    "        JOIN titles t ON e.emp_no = t.emp_no\n",
    "        WHERE s.to_date = '9999-01-01' AND\n",
    "        t.to_date = '9999-01-01'\n",
    "        ORDER BY RAND()\n",
    "        LIMIT 20\n",
    "        \"\"\", cursor)"
   ]
  },
  {
   "cell_type": "code",
   "execution_count": 328,
   "metadata": {},
   "outputs": [
    {
     "name": "stdout",
     "output_type": "stream",
     "text": [
      "+----------+--------------+--------------+-------------+----------+-------------+\n",
      "|   emp_no | birth_date   | first_name   | last_name   | gender   | hire_date   |\n",
      "|----------+--------------+--------------+-------------+----------+-------------|\n",
      "|    10001 | 1953-09-02   | Georgi       | Facello     | M        | 1986-06-26  |\n",
      "|    10002 | 1964-06-02   | Bezalel      | Simmel      | F        | 1985-11-21  |\n",
      "|    10003 | 1959-12-03   | Parto        | Bamford     | M        | 1986-08-28  |\n",
      "|    10004 | 1954-05-01   | Chirstian    | Koblick     | M        | 1986-12-01  |\n",
      "|    10005 | 1955-01-21   | Kyoichi      | Maliniak    | M        | 1989-09-12  |\n",
      "|    10006 | 1953-04-20   | Anneke       | Preusig     | F        | 1989-06-02  |\n",
      "|    10007 | 1957-05-23   | Tzvetan      | Zielinski   | F        | 1989-02-10  |\n",
      "|    10008 | 1958-02-19   | Saniya       | Kalloufi    | M        | 1994-09-15  |\n",
      "|    10009 | 1952-04-19   | Sumant       | Peac        | F        | 1985-02-18  |\n",
      "|    10010 | 1963-06-01   | Duangkaew    | Piveteau    | F        | 1989-08-24  |\n",
      "|    10011 | 1953-11-07   | Mary         | Sluis       | F        | 1990-01-22  |\n",
      "|    10012 | 1960-10-04   | Patricio     | Bridgland   | M        | 1992-12-18  |\n",
      "|    10013 | 1963-06-07   | Eberhardt    | Terkki      | M        | 1985-10-20  |\n",
      "|    10014 | 1956-02-12   | Berni        | Genin       | M        | 1987-03-11  |\n",
      "|    10015 | 1959-08-19   | Guoxiang     | Nooteboom   | M        | 1987-07-02  |\n",
      "|    10016 | 1961-05-02   | Kazuhito     | Cappelletti | M        | 1995-01-27  |\n",
      "|    10017 | 1958-07-06   | Cristinel    | Bouloucos   | F        | 1993-08-03  |\n",
      "|    10018 | 1954-06-19   | Kazuhide     | Peha        | F        | 1987-04-03  |\n",
      "|    10019 | 1953-01-23   | Lillian      | Haddadi     | M        | 1999-04-30  |\n",
      "|    10020 | 1952-12-24   | Mayuko       | Warwick     | M        | 1991-01-26  |\n",
      "+----------+--------------+--------------+-------------+----------+-------------+\n"
     ]
    }
   ],
   "source": [
    "sql_exc(\"SELECT * FROM employees LIMIT 20\", cursor)"
   ]
  },
  {
   "cell_type": "code",
   "execution_count": 63,
   "metadata": {},
   "outputs": [
    {
     "name": "stdout",
     "output_type": "stream",
     "text": [
      "+------------+\n",
      "|   COUNT(*) |\n",
      "|------------|\n",
      "|     300024 |\n",
      "+------------+\n"
     ]
    }
   ],
   "source": [
    "sql_exc(\"SELECT COUNT(*) FROM employees\", cursor)"
   ]
  },
  {
   "cell_type": "code",
   "execution_count": 71,
   "metadata": {},
   "outputs": [],
   "source": [
    "conn, cursor = connect()"
   ]
  },
  {
   "cell_type": "code",
   "execution_count": 78,
   "metadata": {},
   "outputs": [
    {
     "name": "stdout",
     "output_type": "stream",
     "text": [
      "+-------------------+\n",
      "| Tables_in_world   |\n",
      "|-------------------|\n",
      "| city              |\n",
      "| country           |\n",
      "| countrylanguage   |\n",
      "+-------------------+\n"
     ]
    }
   ],
   "source": [
    "sql_exc(\"USE world\", cursor)\n",
    "sql_exc(\"SHOW TABLES\", cursor)"
   ]
  },
  {
   "cell_type": "code",
   "execution_count": 81,
   "metadata": {},
   "outputs": [
    {
     "name": "stdout",
     "output_type": "stream",
     "text": [
      "+-------------+---------------+--------+-------+-----------+---------+\n",
      "| Field       | Type          | Null   | Key   | Default   | Extra   |\n",
      "|-------------+---------------+--------+-------+-----------+---------|\n",
      "| CountryCode | char(3)       | NO     | PRI   |           |         |\n",
      "| Language    | char(30)      | NO     | PRI   |           |         |\n",
      "| IsOfficial  | enum('T','F') | NO     |       | F         |         |\n",
      "| Percentage  | decimal(4,1)  | NO     |       | 0.0       |         |\n",
      "+-------------+---------------+--------+-------+-----------+---------+\n"
     ]
    }
   ],
   "source": [
    "sql_exc(\"DESC countrylanguage\", cursor)"
   ]
  }
 ],
 "metadata": {
  "kernelspec": {
   "display_name": "Python 3",
   "language": "python",
   "name": "python3"
  },
  "language_info": {
   "codemirror_mode": {
    "name": "ipython",
    "version": 3
   },
   "file_extension": ".py",
   "mimetype": "text/x-python",
   "name": "python",
   "nbconvert_exporter": "python",
   "pygments_lexer": "ipython3",
   "version": "3.12.5"
  }
 },
 "nbformat": 4,
 "nbformat_minor": 2
}
